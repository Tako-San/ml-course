{
  "nbformat": 4,
  "nbformat_minor": 0,
  "metadata": {
    "colab": {
      "provenance": [],
      "gpuType": "T4",
      "authorship_tag": "ABX9TyMmaKlv1LiJRxoNDLrthBqA",
      "include_colab_link": true
    },
    "kernelspec": {
      "name": "python3",
      "display_name": "Python 3"
    },
    "language_info": {
      "name": "python"
    },
    "accelerator": "GPU",
    "widgets": {
      "application/vnd.jupyter.widget-state+json": {
        "44f6c8bd72f8466395d3aff482862d8a": {
          "model_module": "@jupyter-widgets/controls",
          "model_name": "HBoxModel",
          "model_module_version": "1.5.0",
          "state": {
            "_dom_classes": [],
            "_model_module": "@jupyter-widgets/controls",
            "_model_module_version": "1.5.0",
            "_model_name": "HBoxModel",
            "_view_count": null,
            "_view_module": "@jupyter-widgets/controls",
            "_view_module_version": "1.5.0",
            "_view_name": "HBoxView",
            "box_style": "",
            "children": [
              "IPY_MODEL_9679bc4406104920bd06cd040308920d",
              "IPY_MODEL_238e8e07d7a24ec48c24be2d43a07031",
              "IPY_MODEL_a598fa301769466a8054323e3e26aa43"
            ],
            "layout": "IPY_MODEL_c1c9c8121bbe481c892d93cba3ed2571"
          }
        },
        "9679bc4406104920bd06cd040308920d": {
          "model_module": "@jupyter-widgets/controls",
          "model_name": "HTMLModel",
          "model_module_version": "1.5.0",
          "state": {
            "_dom_classes": [],
            "_model_module": "@jupyter-widgets/controls",
            "_model_module_version": "1.5.0",
            "_model_name": "HTMLModel",
            "_view_count": null,
            "_view_module": "@jupyter-widgets/controls",
            "_view_module_version": "1.5.0",
            "_view_name": "HTMLView",
            "description": "",
            "description_tooltip": null,
            "layout": "IPY_MODEL_f6f50b03a25143b09e59bf4880d4ec16",
            "placeholder": "​",
            "style": "IPY_MODEL_377252a48e994d3599f2597b43a444e2",
            "value": "epoch:   0%"
          }
        },
        "238e8e07d7a24ec48c24be2d43a07031": {
          "model_module": "@jupyter-widgets/controls",
          "model_name": "FloatProgressModel",
          "model_module_version": "1.5.0",
          "state": {
            "_dom_classes": [],
            "_model_module": "@jupyter-widgets/controls",
            "_model_module_version": "1.5.0",
            "_model_name": "FloatProgressModel",
            "_view_count": null,
            "_view_module": "@jupyter-widgets/controls",
            "_view_module_version": "1.5.0",
            "_view_name": "ProgressView",
            "bar_style": "",
            "description": "",
            "description_tooltip": null,
            "layout": "IPY_MODEL_1a537cc6f42a4f92ad285b52c5e42157",
            "max": 1,
            "min": 0,
            "orientation": "horizontal",
            "style": "IPY_MODEL_5580f4db8bdf4adc9a109d99fa0b4831",
            "value": 0
          }
        },
        "a598fa301769466a8054323e3e26aa43": {
          "model_module": "@jupyter-widgets/controls",
          "model_name": "HTMLModel",
          "model_module_version": "1.5.0",
          "state": {
            "_dom_classes": [],
            "_model_module": "@jupyter-widgets/controls",
            "_model_module_version": "1.5.0",
            "_model_name": "HTMLModel",
            "_view_count": null,
            "_view_module": "@jupyter-widgets/controls",
            "_view_module_version": "1.5.0",
            "_view_name": "HTMLView",
            "description": "",
            "description_tooltip": null,
            "layout": "IPY_MODEL_43b43c0997054971871ceb1f90e39993",
            "placeholder": "​",
            "style": "IPY_MODEL_b4c9e7209bcc4386add89d8cf2767111",
            "value": " 0/1 [00:00&lt;?, ?it/s, train epoch loss=nan]"
          }
        },
        "c1c9c8121bbe481c892d93cba3ed2571": {
          "model_module": "@jupyter-widgets/base",
          "model_name": "LayoutModel",
          "model_module_version": "1.2.0",
          "state": {
            "_model_module": "@jupyter-widgets/base",
            "_model_module_version": "1.2.0",
            "_model_name": "LayoutModel",
            "_view_count": null,
            "_view_module": "@jupyter-widgets/base",
            "_view_module_version": "1.2.0",
            "_view_name": "LayoutView",
            "align_content": null,
            "align_items": null,
            "align_self": null,
            "border": null,
            "bottom": null,
            "display": null,
            "flex": null,
            "flex_flow": null,
            "grid_area": null,
            "grid_auto_columns": null,
            "grid_auto_flow": null,
            "grid_auto_rows": null,
            "grid_column": null,
            "grid_gap": null,
            "grid_row": null,
            "grid_template_areas": null,
            "grid_template_columns": null,
            "grid_template_rows": null,
            "height": null,
            "justify_content": null,
            "justify_items": null,
            "left": null,
            "margin": null,
            "max_height": null,
            "max_width": null,
            "min_height": null,
            "min_width": null,
            "object_fit": null,
            "object_position": null,
            "order": null,
            "overflow": null,
            "overflow_x": null,
            "overflow_y": null,
            "padding": null,
            "right": null,
            "top": null,
            "visibility": null,
            "width": null
          }
        },
        "f6f50b03a25143b09e59bf4880d4ec16": {
          "model_module": "@jupyter-widgets/base",
          "model_name": "LayoutModel",
          "model_module_version": "1.2.0",
          "state": {
            "_model_module": "@jupyter-widgets/base",
            "_model_module_version": "1.2.0",
            "_model_name": "LayoutModel",
            "_view_count": null,
            "_view_module": "@jupyter-widgets/base",
            "_view_module_version": "1.2.0",
            "_view_name": "LayoutView",
            "align_content": null,
            "align_items": null,
            "align_self": null,
            "border": null,
            "bottom": null,
            "display": null,
            "flex": null,
            "flex_flow": null,
            "grid_area": null,
            "grid_auto_columns": null,
            "grid_auto_flow": null,
            "grid_auto_rows": null,
            "grid_column": null,
            "grid_gap": null,
            "grid_row": null,
            "grid_template_areas": null,
            "grid_template_columns": null,
            "grid_template_rows": null,
            "height": null,
            "justify_content": null,
            "justify_items": null,
            "left": null,
            "margin": null,
            "max_height": null,
            "max_width": null,
            "min_height": null,
            "min_width": null,
            "object_fit": null,
            "object_position": null,
            "order": null,
            "overflow": null,
            "overflow_x": null,
            "overflow_y": null,
            "padding": null,
            "right": null,
            "top": null,
            "visibility": null,
            "width": null
          }
        },
        "377252a48e994d3599f2597b43a444e2": {
          "model_module": "@jupyter-widgets/controls",
          "model_name": "DescriptionStyleModel",
          "model_module_version": "1.5.0",
          "state": {
            "_model_module": "@jupyter-widgets/controls",
            "_model_module_version": "1.5.0",
            "_model_name": "DescriptionStyleModel",
            "_view_count": null,
            "_view_module": "@jupyter-widgets/base",
            "_view_module_version": "1.2.0",
            "_view_name": "StyleView",
            "description_width": ""
          }
        },
        "1a537cc6f42a4f92ad285b52c5e42157": {
          "model_module": "@jupyter-widgets/base",
          "model_name": "LayoutModel",
          "model_module_version": "1.2.0",
          "state": {
            "_model_module": "@jupyter-widgets/base",
            "_model_module_version": "1.2.0",
            "_model_name": "LayoutModel",
            "_view_count": null,
            "_view_module": "@jupyter-widgets/base",
            "_view_module_version": "1.2.0",
            "_view_name": "LayoutView",
            "align_content": null,
            "align_items": null,
            "align_self": null,
            "border": null,
            "bottom": null,
            "display": null,
            "flex": null,
            "flex_flow": null,
            "grid_area": null,
            "grid_auto_columns": null,
            "grid_auto_flow": null,
            "grid_auto_rows": null,
            "grid_column": null,
            "grid_gap": null,
            "grid_row": null,
            "grid_template_areas": null,
            "grid_template_columns": null,
            "grid_template_rows": null,
            "height": null,
            "justify_content": null,
            "justify_items": null,
            "left": null,
            "margin": null,
            "max_height": null,
            "max_width": null,
            "min_height": null,
            "min_width": null,
            "object_fit": null,
            "object_position": null,
            "order": null,
            "overflow": null,
            "overflow_x": null,
            "overflow_y": null,
            "padding": null,
            "right": null,
            "top": null,
            "visibility": null,
            "width": null
          }
        },
        "5580f4db8bdf4adc9a109d99fa0b4831": {
          "model_module": "@jupyter-widgets/controls",
          "model_name": "ProgressStyleModel",
          "model_module_version": "1.5.0",
          "state": {
            "_model_module": "@jupyter-widgets/controls",
            "_model_module_version": "1.5.0",
            "_model_name": "ProgressStyleModel",
            "_view_count": null,
            "_view_module": "@jupyter-widgets/base",
            "_view_module_version": "1.2.0",
            "_view_name": "StyleView",
            "bar_color": null,
            "description_width": ""
          }
        },
        "43b43c0997054971871ceb1f90e39993": {
          "model_module": "@jupyter-widgets/base",
          "model_name": "LayoutModel",
          "model_module_version": "1.2.0",
          "state": {
            "_model_module": "@jupyter-widgets/base",
            "_model_module_version": "1.2.0",
            "_model_name": "LayoutModel",
            "_view_count": null,
            "_view_module": "@jupyter-widgets/base",
            "_view_module_version": "1.2.0",
            "_view_name": "LayoutView",
            "align_content": null,
            "align_items": null,
            "align_self": null,
            "border": null,
            "bottom": null,
            "display": null,
            "flex": null,
            "flex_flow": null,
            "grid_area": null,
            "grid_auto_columns": null,
            "grid_auto_flow": null,
            "grid_auto_rows": null,
            "grid_column": null,
            "grid_gap": null,
            "grid_row": null,
            "grid_template_areas": null,
            "grid_template_columns": null,
            "grid_template_rows": null,
            "height": null,
            "justify_content": null,
            "justify_items": null,
            "left": null,
            "margin": null,
            "max_height": null,
            "max_width": null,
            "min_height": null,
            "min_width": null,
            "object_fit": null,
            "object_position": null,
            "order": null,
            "overflow": null,
            "overflow_x": null,
            "overflow_y": null,
            "padding": null,
            "right": null,
            "top": null,
            "visibility": null,
            "width": null
          }
        },
        "b4c9e7209bcc4386add89d8cf2767111": {
          "model_module": "@jupyter-widgets/controls",
          "model_name": "DescriptionStyleModel",
          "model_module_version": "1.5.0",
          "state": {
            "_model_module": "@jupyter-widgets/controls",
            "_model_module_version": "1.5.0",
            "_model_name": "DescriptionStyleModel",
            "_view_count": null,
            "_view_module": "@jupyter-widgets/base",
            "_view_module_version": "1.2.0",
            "_view_name": "StyleView",
            "description_width": ""
          }
        },
        "7a122f40f4184fd4bc9413994710994d": {
          "model_module": "@jupyter-widgets/controls",
          "model_name": "HBoxModel",
          "model_module_version": "1.5.0",
          "state": {
            "_dom_classes": [],
            "_model_module": "@jupyter-widgets/controls",
            "_model_module_version": "1.5.0",
            "_model_name": "HBoxModel",
            "_view_count": null,
            "_view_module": "@jupyter-widgets/controls",
            "_view_module_version": "1.5.0",
            "_view_name": "HBoxView",
            "box_style": "",
            "children": [
              "IPY_MODEL_0a1da5799d63465ba8a78c4849a803dd",
              "IPY_MODEL_661fb7fd4c154385bfe44e1c4aaf984e",
              "IPY_MODEL_ff3d922a7e974b5bb227ec20c6279ba4"
            ],
            "layout": "IPY_MODEL_09118377e9c745acb0097ec9e42be609"
          }
        },
        "0a1da5799d63465ba8a78c4849a803dd": {
          "model_module": "@jupyter-widgets/controls",
          "model_name": "HTMLModel",
          "model_module_version": "1.5.0",
          "state": {
            "_dom_classes": [],
            "_model_module": "@jupyter-widgets/controls",
            "_model_module_version": "1.5.0",
            "_model_name": "HTMLModel",
            "_view_count": null,
            "_view_module": "@jupyter-widgets/controls",
            "_view_module_version": "1.5.0",
            "_view_name": "HTMLView",
            "description": "",
            "description_tooltip": null,
            "layout": "IPY_MODEL_fb3b974e0ac94426ae39481c19acc636",
            "placeholder": "​",
            "style": "IPY_MODEL_2c83ef57075d4b9ebb1a5aa2895f6eb5",
            "value": " 47%"
          }
        },
        "661fb7fd4c154385bfe44e1c4aaf984e": {
          "model_module": "@jupyter-widgets/controls",
          "model_name": "FloatProgressModel",
          "model_module_version": "1.5.0",
          "state": {
            "_dom_classes": [],
            "_model_module": "@jupyter-widgets/controls",
            "_model_module_version": "1.5.0",
            "_model_name": "FloatProgressModel",
            "_view_count": null,
            "_view_module": "@jupyter-widgets/controls",
            "_view_module_version": "1.5.0",
            "_view_name": "ProgressView",
            "bar_style": "",
            "description": "",
            "description_tooltip": null,
            "layout": "IPY_MODEL_b1908e64fff1424db5044d87ed87c0ae",
            "max": 938,
            "min": 0,
            "orientation": "horizontal",
            "style": "IPY_MODEL_d1f80b151be244f6ae4ca34b948353d2",
            "value": 440
          }
        },
        "ff3d922a7e974b5bb227ec20c6279ba4": {
          "model_module": "@jupyter-widgets/controls",
          "model_name": "HTMLModel",
          "model_module_version": "1.5.0",
          "state": {
            "_dom_classes": [],
            "_model_module": "@jupyter-widgets/controls",
            "_model_module_version": "1.5.0",
            "_model_name": "HTMLModel",
            "_view_count": null,
            "_view_module": "@jupyter-widgets/controls",
            "_view_module_version": "1.5.0",
            "_view_name": "HTMLView",
            "description": "",
            "description_tooltip": null,
            "layout": "IPY_MODEL_06f4fb1e756d4168973021ab60985c2b",
            "placeholder": "​",
            "style": "IPY_MODEL_ad8098cd6ab94d36a7e5f9ae29023d48",
            "value": " 440/938 [01:02&lt;01:10,  7.05it/s]"
          }
        },
        "09118377e9c745acb0097ec9e42be609": {
          "model_module": "@jupyter-widgets/base",
          "model_name": "LayoutModel",
          "model_module_version": "1.2.0",
          "state": {
            "_model_module": "@jupyter-widgets/base",
            "_model_module_version": "1.2.0",
            "_model_name": "LayoutModel",
            "_view_count": null,
            "_view_module": "@jupyter-widgets/base",
            "_view_module_version": "1.2.0",
            "_view_name": "LayoutView",
            "align_content": null,
            "align_items": null,
            "align_self": null,
            "border": null,
            "bottom": null,
            "display": null,
            "flex": null,
            "flex_flow": null,
            "grid_area": null,
            "grid_auto_columns": null,
            "grid_auto_flow": null,
            "grid_auto_rows": null,
            "grid_column": null,
            "grid_gap": null,
            "grid_row": null,
            "grid_template_areas": null,
            "grid_template_columns": null,
            "grid_template_rows": null,
            "height": null,
            "justify_content": null,
            "justify_items": null,
            "left": null,
            "margin": null,
            "max_height": null,
            "max_width": null,
            "min_height": null,
            "min_width": null,
            "object_fit": null,
            "object_position": null,
            "order": null,
            "overflow": null,
            "overflow_x": null,
            "overflow_y": null,
            "padding": null,
            "right": null,
            "top": null,
            "visibility": null,
            "width": null
          }
        },
        "fb3b974e0ac94426ae39481c19acc636": {
          "model_module": "@jupyter-widgets/base",
          "model_name": "LayoutModel",
          "model_module_version": "1.2.0",
          "state": {
            "_model_module": "@jupyter-widgets/base",
            "_model_module_version": "1.2.0",
            "_model_name": "LayoutModel",
            "_view_count": null,
            "_view_module": "@jupyter-widgets/base",
            "_view_module_version": "1.2.0",
            "_view_name": "LayoutView",
            "align_content": null,
            "align_items": null,
            "align_self": null,
            "border": null,
            "bottom": null,
            "display": null,
            "flex": null,
            "flex_flow": null,
            "grid_area": null,
            "grid_auto_columns": null,
            "grid_auto_flow": null,
            "grid_auto_rows": null,
            "grid_column": null,
            "grid_gap": null,
            "grid_row": null,
            "grid_template_areas": null,
            "grid_template_columns": null,
            "grid_template_rows": null,
            "height": null,
            "justify_content": null,
            "justify_items": null,
            "left": null,
            "margin": null,
            "max_height": null,
            "max_width": null,
            "min_height": null,
            "min_width": null,
            "object_fit": null,
            "object_position": null,
            "order": null,
            "overflow": null,
            "overflow_x": null,
            "overflow_y": null,
            "padding": null,
            "right": null,
            "top": null,
            "visibility": null,
            "width": null
          }
        },
        "2c83ef57075d4b9ebb1a5aa2895f6eb5": {
          "model_module": "@jupyter-widgets/controls",
          "model_name": "DescriptionStyleModel",
          "model_module_version": "1.5.0",
          "state": {
            "_model_module": "@jupyter-widgets/controls",
            "_model_module_version": "1.5.0",
            "_model_name": "DescriptionStyleModel",
            "_view_count": null,
            "_view_module": "@jupyter-widgets/base",
            "_view_module_version": "1.2.0",
            "_view_name": "StyleView",
            "description_width": ""
          }
        },
        "b1908e64fff1424db5044d87ed87c0ae": {
          "model_module": "@jupyter-widgets/base",
          "model_name": "LayoutModel",
          "model_module_version": "1.2.0",
          "state": {
            "_model_module": "@jupyter-widgets/base",
            "_model_module_version": "1.2.0",
            "_model_name": "LayoutModel",
            "_view_count": null,
            "_view_module": "@jupyter-widgets/base",
            "_view_module_version": "1.2.0",
            "_view_name": "LayoutView",
            "align_content": null,
            "align_items": null,
            "align_self": null,
            "border": null,
            "bottom": null,
            "display": null,
            "flex": null,
            "flex_flow": null,
            "grid_area": null,
            "grid_auto_columns": null,
            "grid_auto_flow": null,
            "grid_auto_rows": null,
            "grid_column": null,
            "grid_gap": null,
            "grid_row": null,
            "grid_template_areas": null,
            "grid_template_columns": null,
            "grid_template_rows": null,
            "height": null,
            "justify_content": null,
            "justify_items": null,
            "left": null,
            "margin": null,
            "max_height": null,
            "max_width": null,
            "min_height": null,
            "min_width": null,
            "object_fit": null,
            "object_position": null,
            "order": null,
            "overflow": null,
            "overflow_x": null,
            "overflow_y": null,
            "padding": null,
            "right": null,
            "top": null,
            "visibility": null,
            "width": null
          }
        },
        "d1f80b151be244f6ae4ca34b948353d2": {
          "model_module": "@jupyter-widgets/controls",
          "model_name": "ProgressStyleModel",
          "model_module_version": "1.5.0",
          "state": {
            "_model_module": "@jupyter-widgets/controls",
            "_model_module_version": "1.5.0",
            "_model_name": "ProgressStyleModel",
            "_view_count": null,
            "_view_module": "@jupyter-widgets/base",
            "_view_module_version": "1.2.0",
            "_view_name": "StyleView",
            "bar_color": null,
            "description_width": ""
          }
        },
        "06f4fb1e756d4168973021ab60985c2b": {
          "model_module": "@jupyter-widgets/base",
          "model_name": "LayoutModel",
          "model_module_version": "1.2.0",
          "state": {
            "_model_module": "@jupyter-widgets/base",
            "_model_module_version": "1.2.0",
            "_model_name": "LayoutModel",
            "_view_count": null,
            "_view_module": "@jupyter-widgets/base",
            "_view_module_version": "1.2.0",
            "_view_name": "LayoutView",
            "align_content": null,
            "align_items": null,
            "align_self": null,
            "border": null,
            "bottom": null,
            "display": null,
            "flex": null,
            "flex_flow": null,
            "grid_area": null,
            "grid_auto_columns": null,
            "grid_auto_flow": null,
            "grid_auto_rows": null,
            "grid_column": null,
            "grid_gap": null,
            "grid_row": null,
            "grid_template_areas": null,
            "grid_template_columns": null,
            "grid_template_rows": null,
            "height": null,
            "justify_content": null,
            "justify_items": null,
            "left": null,
            "margin": null,
            "max_height": null,
            "max_width": null,
            "min_height": null,
            "min_width": null,
            "object_fit": null,
            "object_position": null,
            "order": null,
            "overflow": null,
            "overflow_x": null,
            "overflow_y": null,
            "padding": null,
            "right": null,
            "top": null,
            "visibility": null,
            "width": null
          }
        },
        "ad8098cd6ab94d36a7e5f9ae29023d48": {
          "model_module": "@jupyter-widgets/controls",
          "model_name": "DescriptionStyleModel",
          "model_module_version": "1.5.0",
          "state": {
            "_model_module": "@jupyter-widgets/controls",
            "_model_module_version": "1.5.0",
            "_model_name": "DescriptionStyleModel",
            "_view_count": null,
            "_view_module": "@jupyter-widgets/base",
            "_view_module_version": "1.2.0",
            "_view_name": "StyleView",
            "description_width": ""
          }
        }
      }
    }
  },
  "cells": [
    {
      "cell_type": "markdown",
      "metadata": {
        "id": "view-in-github",
        "colab_type": "text"
      },
      "source": [
        "<a href=\"https://colab.research.google.com/github/Tako-San/ml-course/blob/main/t3/task1.ipynb\" target=\"_parent\"><img src=\"https://colab.research.google.com/assets/colab-badge.svg\" alt=\"Open In Colab\"/></a>"
      ]
    },
    {
      "cell_type": "markdown",
      "source": [
        "# Домашнее задание 2-1, Хайдари Фарид, Б01-008\n"
      ],
      "metadata": {
        "id": "mqU93vdzjgeG"
      }
    },
    {
      "cell_type": "markdown",
      "source": [
        "## Подключение библиотек, написание тренера и логгера"
      ],
      "metadata": {
        "id": "JznwPr4Gjtcb"
      }
    },
    {
      "cell_type": "code",
      "source": [
        "# !pip3 install matplotlib\n",
        "# !pip3 install scikit-image\n",
        "# !pip3 install scikit-learn\n",
        "# !pip3 install tqdm\n",
        "# !pip3 install torch torchvision torchaudio\n",
        "# !pip3 install tensorboard\n",
        "# !pip3 install torchvision\n",
        "# !pip3 install ipywidgets --user"
      ],
      "metadata": {
        "id": "Tn6pFe9FF-Q1"
      },
      "execution_count": 41,
      "outputs": []
    },
    {
      "cell_type": "code",
      "source": [
        "from copy import deepcopy\n",
        "\n",
        "import matplotlib.pyplot as plt\n",
        "from matplotlib.image import imread\n",
        "from mpl_toolkits import mplot3d\n",
        "from matplotlib import gridspec\n",
        "from PIL import Image\n",
        "import io\n",
        "from urllib.request import urlopen\n",
        "# from lime import lime_image\n",
        "from skimage.segmentation import mark_boundaries\n",
        "\n",
        "from tqdm.notebook import tqdm\n",
        "import numpy as np\n",
        "import requests\n",
        "import torch\n",
        "\n",
        "from sklearn.metrics import classification_report\n",
        "from torch.utils.tensorboard import SummaryWriter\n",
        "\n",
        "from torchvision import datasets, transforms"
      ],
      "metadata": {
        "id": "vrJStUOUF_AO"
      },
      "execution_count": 42,
      "outputs": []
    },
    {
      "cell_type": "code",
      "source": [
        "import warnings\n",
        "warnings.filterwarnings(\"ignore\")\n",
        "\n",
        "# from google.colab import output\n",
        "# output.enable_custom_widget_manager()"
      ],
      "metadata": {
        "id": "H0JESQ9oGBuC"
      },
      "execution_count": 43,
      "outputs": []
    },
    {
      "cell_type": "code",
      "source": [
        "PIC_SIZE = 28\n",
        "LOSS_FUNCTION = torch.nn.CrossEntropyLoss()\n",
        "OPTIMIZER = torch.optim.Adam\n",
        "\n",
        "MNIST_train = datasets.FashionMNIST(root='data', train=True, download=True,\n",
        "                             transform=transforms.ToTensor())\n",
        "\n",
        "MNIST_test = datasets.FashionMNIST(root='data', train=False, download=True,\n",
        "                            transform=transforms.ToTensor())\n",
        "\n",
        "DEVICE = torch.device(\"cuda\" if torch.cuda.is_available() else \"cpu\")\n",
        "DEVICE"
      ],
      "metadata": {
        "id": "a7d-tQBT_2AV",
        "outputId": "069e39eb-0b83-48c4-f10b-03ef05b8d6ec",
        "colab": {
          "base_uri": "https://localhost:8080/"
        }
      },
      "execution_count": 44,
      "outputs": [
        {
          "output_type": "execute_result",
          "data": {
            "text/plain": [
              "device(type='cuda')"
            ]
          },
          "metadata": {},
          "execution_count": 44
        }
      ]
    },
    {
      "cell_type": "code",
      "source": [
        "def train_on_batch(model, x_batch, y_batch, optimizer, loss_function):\n",
        "    model.train()\n",
        "    model.zero_grad()\n",
        "\n",
        "    output = model(x_batch.to(DEVICE))\n",
        "\n",
        "    loss = loss_function(output, y_batch.to(DEVICE))\n",
        "    loss.backward()\n",
        "\n",
        "    optimizer.step()\n",
        "    return loss.cpu().item()"
      ],
      "metadata": {
        "id": "nZ5CAecWGOwe"
      },
      "execution_count": 45,
      "outputs": []
    },
    {
      "cell_type": "code",
      "source": [
        "def train_epoch(train_generator, model, loss_function, optimizer, callback = None):\n",
        "    epoch_loss = 0\n",
        "    total = 0\n",
        "    for it, (batch_of_x, batch_of_y) in enumerate(train_generator):\n",
        "        batch_loss = train_on_batch(model, batch_of_x.to(DEVICE), batch_of_y.to(DEVICE), optimizer, loss_function)\n",
        "\n",
        "        if callback is not None:\n",
        "            callback(model, batch_loss)\n",
        "\n",
        "        epoch_loss += batch_loss*len(batch_of_x)\n",
        "        total += len(batch_of_x)\n",
        "\n",
        "    return epoch_loss/total"
      ],
      "metadata": {
        "id": "2rRzlYnDGRdj"
      },
      "execution_count": 46,
      "outputs": []
    },
    {
      "cell_type": "code",
      "source": [
        "def trainer(count_of_epoch,\n",
        "            batch_size,\n",
        "            dataset,\n",
        "            model,\n",
        "            loss_function,\n",
        "            optimizer,\n",
        "            lr = 0.001,\n",
        "            callback = None):\n",
        "\n",
        "    optima = optimizer(model.parameters(), lr=lr)\n",
        "\n",
        "    iterations = tqdm(range(count_of_epoch), desc='epoch')\n",
        "    iterations.set_postfix({'train epoch loss': np.nan})\n",
        "    for it in iterations:\n",
        "        batch_generator = tqdm(\n",
        "            torch.utils.data.DataLoader(dataset=dataset, batch_size=batch_size, shuffle=True),\n",
        "            leave=False, total=len(dataset)//batch_size+(len(dataset)%batch_size> 0))\n",
        "\n",
        "        epoch_loss = train_epoch(train_generator=batch_generator,\n",
        "                    model=model,\n",
        "                    loss_function=loss_function,\n",
        "                    optimizer=optima,\n",
        "                    callback=callback)\n",
        "\n",
        "        iterations.set_postfix({'train epoch loss': epoch_loss})"
      ],
      "metadata": {
        "id": "ftXB2lA5GUoz"
      },
      "execution_count": 47,
      "outputs": []
    },
    {
      "cell_type": "code",
      "source": [
        "class callback():\n",
        "    def __init__(self, writer, dataset, loss_function, delimeter = 100, batch_size=64):\n",
        "        self.step = 0\n",
        "        self.writer = writer\n",
        "        self.delimeter = delimeter\n",
        "        self.loss_function = loss_function\n",
        "        self.batch_size = batch_size\n",
        "\n",
        "        self.dataset = dataset\n",
        "\n",
        "    def forward(self, model, loss):\n",
        "        self.step += 1\n",
        "        self.writer.add_scalar('LOSS/train', loss, self.step)\n",
        "\n",
        "\n",
        "        if self.step % self.delimeter != 0:\n",
        "            return\n",
        "\n",
        "        self.writer.add_graph(model, self.dataset[0][0].view(1,1,PIC_SIZE,PIC_SIZE).to(model.device))\n",
        "\n",
        "        batch_generator = torch.utils.data.DataLoader(dataset = self.dataset,\n",
        "                                                      batch_size=self.batch_size)\n",
        "\n",
        "        pred = []\n",
        "        real = []\n",
        "        test_loss = 0\n",
        "        correct = 0\n",
        "        for it, (x_batch, y_batch) in enumerate(batch_generator):\n",
        "            x_batch = x_batch.to(model.device)\n",
        "            y_batch = y_batch.to(model.device)\n",
        "\n",
        "            output = model(x_batch)\n",
        "\n",
        "            test_loss += self.loss_function(output, y_batch).cpu().item()*len(x_batch)\n",
        "\n",
        "            pred.extend(torch.argmax(output, dim=-1).cpu().numpy().tolist())\n",
        "            real.extend(y_batch.cpu().numpy().tolist())\n",
        "\n",
        "        test_loss /= len(self.dataset)\n",
        "\n",
        "        self.writer.add_scalar('LOSS/test', test_loss, self.step)\n",
        "\n",
        "        self.writer.add_text('REPORT/test', str(classification_report(real, pred)), self.step)\n",
        "\n",
        "        # x = x_batch[-10:]\n",
        "        # y = model.layers.body_conv_1(x.to(model.device))\n",
        "        # z = model.layers.body_conv_2(model.layers.body_pool_1(model.layers.body_relu_1(y)))\n",
        "\n",
        "    def __call__(self, model, loss):\n",
        "        return self.forward(model, loss)\n"
      ],
      "metadata": {
        "id": "5jRzsaDRjuPh"
      },
      "execution_count": 48,
      "outputs": []
    },
    {
      "cell_type": "code",
      "source": [
        "def get_loss(md):\n",
        "    batch_generator = torch.utils.data.DataLoader(dataset = MNIST_test,\n",
        "                                                  batch_size=64)\n",
        "\n",
        "    pred = []\n",
        "    real = []\n",
        "    test_loss = 0\n",
        "    for it, (x_batch, y_batch) in enumerate(batch_generator):\n",
        "        x_batch = x_batch.to(DEVICE)\n",
        "        y_batch = y_batch.to(DEVICE)\n",
        "\n",
        "        output = md(x_batch)\n",
        "\n",
        "        test_loss += LOSS_FUNCTION(output, y_batch).cpu().item()*len(x_batch)\n",
        "\n",
        "        pred.extend(torch.argmax(output, dim=-1).cpu().numpy().tolist())\n",
        "        real.extend(y_batch.cpu().numpy().tolist())\n",
        "\n",
        "    test_loss /= len(MNIST_test)\n",
        "    return test_loss"
      ],
      "metadata": {
        "id": "VvUFumc9lEio"
      },
      "execution_count": 49,
      "outputs": []
    },
    {
      "cell_type": "markdown",
      "source": [
        "## Модель\n",
        "\n",
        "Написана так, чтобы можно было легко менять параметры сети. В конструкторе можно задать количество и размер слоев, размеры ядер свертки и пулинга, значение дропа, а также использования нормализации"
      ],
      "metadata": {
        "id": "XhrKBXIijdZP"
      }
    },
    {
      "cell_type": "code",
      "source": [
        "from math import floor\n",
        "\n",
        "def conv_output_size(input_size, kernel_size):\n",
        "    return input_size - kernel_size + 1\n",
        "\n",
        "def pool_output_size(input_size, kernel_size):\n",
        "    return floor((input_size - kernel_size) / kernel_size + 1)\n",
        "\n",
        "class CNN(torch.nn.Module):\n",
        "    @property\n",
        "    def device(self):\n",
        "        for p in self.parameters():\n",
        "            return p.device\n",
        "\n",
        "    def __init__(self, channels=[6, 16], conv_kernel_size=5, pool_kernel_size=2, batch_norm=False, dropout=None):\n",
        "        super(CNN, self).__init__()\n",
        "\n",
        "        self.layers = torch.nn.Sequential()\n",
        "\n",
        "        cur_size = 28\n",
        "        ch = 1\n",
        "\n",
        "        for i, new_ch in enumerate(channels):\n",
        "          label = str(i + 1)\n",
        "          self.layers.add_module('body_conv_' + label, torch.nn.Conv2d(1 * ch, 1 * new_ch, kernel_size = conv_kernel_size))\n",
        "          if batch_norm:\n",
        "              self.layers.add_module('body_batch_norm_' + label, torch.nn.BatchNorm2d(new_ch))\n",
        "          self.layers.add_module('body_relu_' + label, torch.nn.ReLU())\n",
        "          if dropout is not None:\n",
        "              self.layers.add_module('body_dropout_' + label, torch.nn.Dropout(p = dropout))\n",
        "          self.layers.add_module('body_pool_' + label, torch.nn.MaxPool2d(kernel_size = pool_kernel_size))\n",
        "          conv_size = conv_output_size(cur_size, conv_kernel_size)\n",
        "          cur_size = pool_output_size(conv_size, pool_kernel_size)\n",
        "          ch = new_ch\n",
        "\n",
        "        self.layers.add_module('tail_flatten', torch.nn.Flatten())\n",
        "        self.layers.add_module('tail_linear_1', torch.nn.Linear(ch * cur_size * cur_size, 120))\n",
        "        self.layers.add_module('tail_relu_1', torch.nn.ReLU())\n",
        "        self.layers.add_module('tail_linear_2', torch.nn.Linear(120, 84))\n",
        "        self.layers.add_module('tail_relu_2', torch.nn.ReLU())\n",
        "        self.layers.add_module('tail_linear_3', torch.nn.Linear(84, 10))\n",
        "\n",
        "    def forward(self, input):\n",
        "        return self.layers(input)"
      ],
      "metadata": {
        "id": "D0txUYZ_GV19"
      },
      "execution_count": 50,
      "outputs": []
    },
    {
      "cell_type": "markdown",
      "source": [
        "## Пример использования модели\n",
        "\n",
        "За стандартную возьмем модель со следующими параметрами:\n",
        "* channels=[6, 16]\n",
        "* conv_kernel_size=5\n",
        "* pool_kernel_size=2\n",
        "* batch_norm=False\n",
        "* dropout=None"
      ],
      "metadata": {
        "id": "Uz3gG7cykGjw"
      }
    },
    {
      "cell_type": "code",
      "source": [
        "LOSS_FUNCTION = torch.nn.CrossEntropyLoss()\n",
        "OPTIMIZER = torch.optim.Adam\n",
        "\n",
        "model = CNN()\n",
        "model.to(DEVICE)"
      ],
      "metadata": {
        "colab": {
          "base_uri": "https://localhost:8080/"
        },
        "id": "LpvgOnfIGbnw",
        "outputId": "5f51423c-b7fa-4296-f14b-9fd291759e34"
      },
      "execution_count": 51,
      "outputs": [
        {
          "output_type": "execute_result",
          "data": {
            "text/plain": [
              "CNN(\n",
              "  (layers): Sequential(\n",
              "    (body_conv_1): Conv2d(1, 6, kernel_size=(5, 5), stride=(1, 1))\n",
              "    (body_relu_1): ReLU()\n",
              "    (body_pool_1): MaxPool2d(kernel_size=2, stride=2, padding=0, dilation=1, ceil_mode=False)\n",
              "    (body_conv_2): Conv2d(6, 16, kernel_size=(5, 5), stride=(1, 1))\n",
              "    (body_relu_2): ReLU()\n",
              "    (body_pool_2): MaxPool2d(kernel_size=2, stride=2, padding=0, dilation=1, ceil_mode=False)\n",
              "    (tail_flatten): Flatten(start_dim=1, end_dim=-1)\n",
              "    (tail_linear_1): Linear(in_features=256, out_features=120, bias=True)\n",
              "    (tail_relu_1): ReLU()\n",
              "    (tail_linear_2): Linear(in_features=120, out_features=84, bias=True)\n",
              "    (tail_relu_2): ReLU()\n",
              "    (tail_linear_3): Linear(in_features=84, out_features=10, bias=True)\n",
              "  )\n",
              ")"
            ]
          },
          "metadata": {},
          "execution_count": 51
        }
      ]
    },
    {
      "cell_type": "markdown",
      "source": [
        "Результаты необученной стандартной модели"
      ],
      "metadata": {
        "id": "-AqdYvMNlMnm"
      }
    },
    {
      "cell_type": "code",
      "source": [
        "loss = get_loss(model)\n",
        "print(f\"initial loss: {loss}\")"
      ],
      "metadata": {
        "colab": {
          "base_uri": "https://localhost:8080/"
        },
        "id": "l7w1N1FJGd89",
        "outputId": "700d4e79-dcab-4206-e95b-d2078496c042"
      },
      "execution_count": 52,
      "outputs": [
        {
          "output_type": "stream",
          "name": "stdout",
          "text": [
            "initial loss: 2.3058507751464843\n"
          ]
        }
      ]
    },
    {
      "cell_type": "markdown",
      "source": [
        "Результаты обученной стандартной модели"
      ],
      "metadata": {
        "id": "QJL6iQpolVRh"
      }
    },
    {
      "cell_type": "code",
      "source": [
        "!rm -r experiment"
      ],
      "metadata": {
        "id": "hMLqUfv42uYr"
      },
      "execution_count": 53,
      "outputs": []
    },
    {
      "cell_type": "code",
      "source": [
        "model = CNN()\n",
        "model.to(DEVICE)\n",
        "\n",
        "writer = SummaryWriter(log_dir = 'experiment/default/0')\n",
        "call = callback(writer, MNIST_test, LOSS_FUNCTION, delimeter = 10)\n",
        "\n",
        "trainer(count_of_epoch = 1,\n",
        "        batch_size = 64,\n",
        "        dataset = MNIST_train,\n",
        "        model = model,\n",
        "        loss_function = LOSS_FUNCTION,\n",
        "        optimizer = OPTIMIZER,\n",
        "        lr = 0.001,\n",
        "        callback = call)\n",
        "\n",
        "loss = get_loss(model)\n",
        "print(f\"trained loss: {loss}\")"
      ],
      "metadata": {
        "id": "tI_wOmcvjaqx",
        "outputId": "ab6189e6-ecbf-46d4-c0cd-063e1d2e4a07",
        "colab": {
          "base_uri": "https://localhost:8080/",
          "height": 81,
          "referenced_widgets": [
            "44f6c8bd72f8466395d3aff482862d8a",
            "9679bc4406104920bd06cd040308920d",
            "238e8e07d7a24ec48c24be2d43a07031",
            "a598fa301769466a8054323e3e26aa43",
            "c1c9c8121bbe481c892d93cba3ed2571",
            "f6f50b03a25143b09e59bf4880d4ec16",
            "377252a48e994d3599f2597b43a444e2",
            "1a537cc6f42a4f92ad285b52c5e42157",
            "5580f4db8bdf4adc9a109d99fa0b4831",
            "43b43c0997054971871ceb1f90e39993",
            "b4c9e7209bcc4386add89d8cf2767111",
            "7a122f40f4184fd4bc9413994710994d",
            "0a1da5799d63465ba8a78c4849a803dd",
            "661fb7fd4c154385bfe44e1c4aaf984e",
            "ff3d922a7e974b5bb227ec20c6279ba4",
            "09118377e9c745acb0097ec9e42be609",
            "fb3b974e0ac94426ae39481c19acc636",
            "2c83ef57075d4b9ebb1a5aa2895f6eb5",
            "b1908e64fff1424db5044d87ed87c0ae",
            "d1f80b151be244f6ae4ca34b948353d2",
            "06f4fb1e756d4168973021ab60985c2b",
            "ad8098cd6ab94d36a7e5f9ae29023d48"
          ]
        }
      },
      "execution_count": null,
      "outputs": [
        {
          "output_type": "display_data",
          "data": {
            "text/plain": [
              "epoch:   0%|          | 0/1 [00:00<?, ?it/s]"
            ],
            "application/vnd.jupyter.widget-view+json": {
              "version_major": 2,
              "version_minor": 0,
              "model_id": "44f6c8bd72f8466395d3aff482862d8a"
            }
          },
          "metadata": {}
        },
        {
          "output_type": "display_data",
          "data": {
            "text/plain": [
              "  0%|          | 0/938 [00:00<?, ?it/s]"
            ],
            "application/vnd.jupyter.widget-view+json": {
              "version_major": 2,
              "version_minor": 0,
              "model_id": "7a122f40f4184fd4bc9413994710994d"
            }
          },
          "metadata": {}
        }
      ]
    },
    {
      "cell_type": "markdown",
      "source": [
        "## Вариация различных параметров сети\n",
        "\n",
        "Варьируем следующие параметры относительно стандартной модели:\n",
        "* количество слоев\n",
        "* размер ядра свертки\n",
        "* размер ядра пулинга\n",
        "* значение дропа\n",
        "* использование нормализации"
      ],
      "metadata": {
        "id": "wfDGw9mckLk1"
      }
    },
    {
      "cell_type": "markdown",
      "source": [
        "### Количество слоев\n",
        "\n",
        "Сравниваем только 1 и 2 слоя, т.к. при добавлении 3го слоя тензорам не хватает размерности. По результатам измерений модель с 1 слоем показала лучший результат и на train и на test. Не совсем понятно почему так вышло. Возможно потому что при меньшем числе слоев у нас получается большая размерность линейного слоя. А это в свою очередь дает нам большую гибкость при классификации"
      ],
      "metadata": {
        "id": "9amvSD-sa9eR"
      }
    },
    {
      "cell_type": "code",
      "source": [
        "for channels in ([6], [6, 16]):\n",
        "    model = CNN(channels=channels)\n",
        "    model.to(DEVICE)\n",
        "\n",
        "    writer = SummaryWriter(log_dir = 'experiment/layers/' + str(len(channels)))\n",
        "    call = callback(writer, MNIST_test, LOSS_FUNCTION, delimeter = 10)\n",
        "\n",
        "    trainer(count_of_epoch = 1,\n",
        "            batch_size = 64,\n",
        "            dataset = MNIST_train,\n",
        "            model = model,\n",
        "            loss_function = LOSS_FUNCTION,\n",
        "            optimizer = OPTIMIZER,\n",
        "            lr = 0.001,\n",
        "            callback = call)\n",
        "\n",
        "    loss = get_loss(model)\n",
        "\n",
        "    print(f\"channels = {channels}, \"\n",
        "          f\"loss: {loss}\")"
      ],
      "metadata": {
        "id": "ZyA99C93bFtS"
      },
      "execution_count": null,
      "outputs": []
    },
    {
      "cell_type": "markdown",
      "source": [
        "### Размер ядра свертки\n",
        "\n",
        "Свертка с ядром размера 3 показала себя лучше. Подозреваю, что причина та же что и в случае с количеством слоёв"
      ],
      "metadata": {
        "id": "tJsYVDDRmT6H"
      }
    },
    {
      "cell_type": "code",
      "source": [
        "for conv_kernel_size in (3, 5):\n",
        "    model = CNN(conv_kernel_size=conv_kernel_size)\n",
        "    model.to(DEVICE)\n",
        "\n",
        "    writer = SummaryWriter(log_dir = 'experiment/conv_kernel_size/' + str(conv_kernel_size))\n",
        "    call = callback(writer, MNIST_test, LOSS_FUNCTION, delimeter = 10)\n",
        "\n",
        "    trainer(count_of_epoch = 1,\n",
        "            batch_size = 64,\n",
        "            dataset = MNIST_train,\n",
        "            model = model,\n",
        "            loss_function = LOSS_FUNCTION,\n",
        "            optimizer = OPTIMIZER,\n",
        "            lr = 0.001,\n",
        "            callback = call)\n",
        "\n",
        "    loss = get_loss(model)\n",
        "\n",
        "    print(f\"conv_kernel_size = {conv_kernel_size}, \"\n",
        "          f\"loss: {loss}\")"
      ],
      "metadata": {
        "id": "PcpetCZremaz"
      },
      "execution_count": null,
      "outputs": []
    },
    {
      "cell_type": "markdown",
      "source": [
        "### Размер ядра пулинга\n",
        "\n",
        "Пулинг с ядром размера 1 (по сути его отсутствие) показал себя лучше. Подозреваю, что причина та же что и в случае с количеством слоёв"
      ],
      "metadata": {
        "id": "eQmOR7IHmokF"
      }
    },
    {
      "cell_type": "code",
      "source": [
        "for pool_kernel_size in (1, 2):\n",
        "    model = CNN(pool_kernel_size=pool_kernel_size)\n",
        "    model.to(DEVICE)\n",
        "\n",
        "    writer = SummaryWriter(log_dir = 'experiment/pool_kernel_size/' + str(pool_kernel_size))\n",
        "    call = callback(writer, MNIST_test, LOSS_FUNCTION, delimeter = 10)\n",
        "\n",
        "    trainer(count_of_epoch = 1,\n",
        "            batch_size = 64,\n",
        "            dataset = MNIST_train,\n",
        "            model = model,\n",
        "            loss_function = LOSS_FUNCTION,\n",
        "            optimizer = OPTIMIZER,\n",
        "            lr = 0.001,\n",
        "            callback = call)\n",
        "\n",
        "    loss = get_loss(model)\n",
        "\n",
        "    print(f\"pool_kernel_size = {pool_kernel_size}, \"\n",
        "          f\"loss: {loss}\")"
      ],
      "metadata": {
        "id": "_wSP9N70hLGH"
      },
      "execution_count": null,
      "outputs": []
    },
    {
      "cell_type": "markdown",
      "source": [
        "### Dropout\n",
        "\n",
        "Dropout равный 0.3 показал себя наилучшим образом"
      ],
      "metadata": {
        "id": "PgcwxPIQmyC2"
      }
    },
    {
      "cell_type": "code",
      "source": [
        "for dropout in (None, 0.1, 0.3, 0.5):\n",
        "    model = CNN(dropout=dropout)\n",
        "    model.to(DEVICE)\n",
        "\n",
        "    writer = SummaryWriter(log_dir = 'experiment/dropout/' + str(dropout))\n",
        "    call = callback(writer, MNIST_test, LOSS_FUNCTION, delimeter = 10)\n",
        "\n",
        "    trainer(count_of_epoch = 1,\n",
        "            batch_size = 64,\n",
        "            dataset = MNIST_train,\n",
        "            model = model,\n",
        "            loss_function = LOSS_FUNCTION,\n",
        "            optimizer = OPTIMIZER,\n",
        "            lr = 0.001,\n",
        "            callback = call)\n",
        "\n",
        "    loss = get_loss(model)\n",
        "\n",
        "    print(f\"dropout = {dropout}, \"\n",
        "          f\"loss: {loss}\")"
      ],
      "metadata": {
        "id": "2QEJ-YwLhuiY"
      },
      "execution_count": null,
      "outputs": []
    },
    {
      "cell_type": "markdown",
      "source": [
        "### Batch normalization\n",
        "\n",
        "Наличие batch normalization показало улучшение"
      ],
      "metadata": {
        "id": "0gaI7Muam_AY"
      }
    },
    {
      "cell_type": "code",
      "source": [
        "for batch_norm in (True, False):\n",
        "    model = CNN(batch_norm=batch_norm)\n",
        "    model.to(DEVICE)\n",
        "\n",
        "    writer = SummaryWriter(log_dir = 'experiment/batch_norm/' + str(batch_norm))\n",
        "    call = callback(writer, MNIST_test, LOSS_FUNCTION, delimeter = 10)\n",
        "\n",
        "    trainer(count_of_epoch = 1,\n",
        "            batch_size = 64,\n",
        "            dataset = MNIST_train,\n",
        "            model = model,\n",
        "            loss_function = LOSS_FUNCTION,\n",
        "            optimizer = OPTIMIZER,\n",
        "            lr = 0.001,\n",
        "            callback = call)\n",
        "\n",
        "    loss = get_loss(model)\n",
        "\n",
        "    print(f\"batch_norm = {batch_norm}, \"\n",
        "          f\"loss: {loss}\")"
      ],
      "metadata": {
        "id": "E89ZNBrUie37"
      },
      "execution_count": null,
      "outputs": []
    },
    {
      "cell_type": "code",
      "source": [
        "%load_ext tensorboard\n",
        "%tensorboard --logdir experiment/"
      ],
      "metadata": {
        "id": "t-1Y8ss5xX50"
      },
      "execution_count": null,
      "outputs": []
    }
  ]
}